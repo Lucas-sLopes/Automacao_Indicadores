{
 "cells": [
  {
   "cell_type": "markdown",
   "metadata": {},
   "source": [
    "### Passo 1 - Importar Arquivos e Bibliotecas"
   ]
  },
  {
   "cell_type": "code",
   "execution_count": 2,
   "metadata": {},
   "outputs": [],
   "source": [
    "# Bibliotecas\n",
    "import pandas as pd\n",
    "import pathlib\n",
    "import win32com.client as win32\n"
   ]
  },
  {
   "cell_type": "code",
   "execution_count": 3,
   "metadata": {},
   "outputs": [
    {
     "data": {
      "text/html": [
       "<div>\n",
       "<style scoped>\n",
       "    .dataframe tbody tr th:only-of-type {\n",
       "        vertical-align: middle;\n",
       "    }\n",
       "\n",
       "    .dataframe tbody tr th {\n",
       "        vertical-align: top;\n",
       "    }\n",
       "\n",
       "    .dataframe thead th {\n",
       "        text-align: right;\n",
       "    }\n",
       "</style>\n",
       "<table border=\"1\" class=\"dataframe\">\n",
       "  <thead>\n",
       "    <tr style=\"text-align: right;\">\n",
       "      <th></th>\n",
       "      <th>Código Venda</th>\n",
       "      <th>Data</th>\n",
       "      <th>ID Loja</th>\n",
       "      <th>Produto</th>\n",
       "      <th>Quantidade</th>\n",
       "      <th>Valor Unitário</th>\n",
       "      <th>Valor Final</th>\n",
       "    </tr>\n",
       "  </thead>\n",
       "  <tbody>\n",
       "    <tr>\n",
       "      <th>0</th>\n",
       "      <td>1</td>\n",
       "      <td>2019-01-01</td>\n",
       "      <td>1</td>\n",
       "      <td>Sapato Estampa</td>\n",
       "      <td>1</td>\n",
       "      <td>358</td>\n",
       "      <td>358</td>\n",
       "    </tr>\n",
       "    <tr>\n",
       "      <th>1</th>\n",
       "      <td>1</td>\n",
       "      <td>2019-01-01</td>\n",
       "      <td>1</td>\n",
       "      <td>Camiseta</td>\n",
       "      <td>2</td>\n",
       "      <td>180</td>\n",
       "      <td>360</td>\n",
       "    </tr>\n",
       "    <tr>\n",
       "      <th>2</th>\n",
       "      <td>1</td>\n",
       "      <td>2019-01-01</td>\n",
       "      <td>1</td>\n",
       "      <td>Sapato Xadrez</td>\n",
       "      <td>1</td>\n",
       "      <td>368</td>\n",
       "      <td>368</td>\n",
       "    </tr>\n",
       "    <tr>\n",
       "      <th>3</th>\n",
       "      <td>2</td>\n",
       "      <td>2019-01-02</td>\n",
       "      <td>3</td>\n",
       "      <td>Relógio</td>\n",
       "      <td>3</td>\n",
       "      <td>200</td>\n",
       "      <td>600</td>\n",
       "    </tr>\n",
       "    <tr>\n",
       "      <th>4</th>\n",
       "      <td>2</td>\n",
       "      <td>2019-01-02</td>\n",
       "      <td>3</td>\n",
       "      <td>Chinelo Liso</td>\n",
       "      <td>1</td>\n",
       "      <td>71</td>\n",
       "      <td>71</td>\n",
       "    </tr>\n",
       "  </tbody>\n",
       "</table>\n",
       "</div>"
      ],
      "text/plain": [
       "   Código Venda       Data  ID Loja         Produto  Quantidade  \\\n",
       "0             1 2019-01-01        1  Sapato Estampa           1   \n",
       "1             1 2019-01-01        1        Camiseta           2   \n",
       "2             1 2019-01-01        1   Sapato Xadrez           1   \n",
       "3             2 2019-01-02        3         Relógio           3   \n",
       "4             2 2019-01-02        3    Chinelo Liso           1   \n",
       "\n",
       "   Valor Unitário  Valor Final  \n",
       "0             358          358  \n",
       "1             180          360  \n",
       "2             368          368  \n",
       "3             200          600  \n",
       "4              71           71  "
      ]
     },
     "metadata": {},
     "output_type": "display_data"
    }
   ],
   "source": [
    "# Arquivos\n",
    "df_email = pd.read_excel(r'Bases de Dados/Emails.xlsx')\n",
    "df_lojas = pd.read_csv(r'Bases de Dados/Lojas.csv', encoding='latin1', sep=';')\n",
    "df_vendas = pd.read_excel(r'Bases de Dados/Vendas.xlsx')\n",
    "\n",
    "display(df_vendas.head())\n"
   ]
  },
  {
   "cell_type": "markdown",
   "metadata": {},
   "source": [
    "### Passo 2 - Definir Criar uma Tabela para cada Loja e Definir o dia do Indicador"
   ]
  },
  {
   "cell_type": "code",
   "execution_count": 4,
   "metadata": {},
   "outputs": [
    {
     "data": {
      "text/html": [
       "<div>\n",
       "<style scoped>\n",
       "    .dataframe tbody tr th:only-of-type {\n",
       "        vertical-align: middle;\n",
       "    }\n",
       "\n",
       "    .dataframe tbody tr th {\n",
       "        vertical-align: top;\n",
       "    }\n",
       "\n",
       "    .dataframe thead th {\n",
       "        text-align: right;\n",
       "    }\n",
       "</style>\n",
       "<table border=\"1\" class=\"dataframe\">\n",
       "  <thead>\n",
       "    <tr style=\"text-align: right;\">\n",
       "      <th></th>\n",
       "      <th>Código Venda</th>\n",
       "      <th>Data</th>\n",
       "      <th>ID Loja</th>\n",
       "      <th>Produto</th>\n",
       "      <th>Quantidade</th>\n",
       "      <th>Valor Unitário</th>\n",
       "      <th>Valor Final</th>\n",
       "      <th>Loja</th>\n",
       "    </tr>\n",
       "  </thead>\n",
       "  <tbody>\n",
       "    <tr>\n",
       "      <th>0</th>\n",
       "      <td>1</td>\n",
       "      <td>2019-01-01</td>\n",
       "      <td>1</td>\n",
       "      <td>Sapato Estampa</td>\n",
       "      <td>1</td>\n",
       "      <td>358</td>\n",
       "      <td>358</td>\n",
       "      <td>Iguatemi Esplanada</td>\n",
       "    </tr>\n",
       "    <tr>\n",
       "      <th>1</th>\n",
       "      <td>1</td>\n",
       "      <td>2019-01-01</td>\n",
       "      <td>1</td>\n",
       "      <td>Camiseta</td>\n",
       "      <td>2</td>\n",
       "      <td>180</td>\n",
       "      <td>360</td>\n",
       "      <td>Iguatemi Esplanada</td>\n",
       "    </tr>\n",
       "    <tr>\n",
       "      <th>2</th>\n",
       "      <td>1</td>\n",
       "      <td>2019-01-01</td>\n",
       "      <td>1</td>\n",
       "      <td>Sapato Xadrez</td>\n",
       "      <td>1</td>\n",
       "      <td>368</td>\n",
       "      <td>368</td>\n",
       "      <td>Iguatemi Esplanada</td>\n",
       "    </tr>\n",
       "    <tr>\n",
       "      <th>3</th>\n",
       "      <td>21</td>\n",
       "      <td>2019-01-02</td>\n",
       "      <td>1</td>\n",
       "      <td>Camisa Gola V Listrado</td>\n",
       "      <td>2</td>\n",
       "      <td>116</td>\n",
       "      <td>232</td>\n",
       "      <td>Iguatemi Esplanada</td>\n",
       "    </tr>\n",
       "    <tr>\n",
       "      <th>4</th>\n",
       "      <td>34</td>\n",
       "      <td>2019-01-02</td>\n",
       "      <td>1</td>\n",
       "      <td>Sapato Listrado</td>\n",
       "      <td>1</td>\n",
       "      <td>363</td>\n",
       "      <td>363</td>\n",
       "      <td>Iguatemi Esplanada</td>\n",
       "    </tr>\n",
       "    <tr>\n",
       "      <th>...</th>\n",
       "      <td>...</td>\n",
       "      <td>...</td>\n",
       "      <td>...</td>\n",
       "      <td>...</td>\n",
       "      <td>...</td>\n",
       "      <td>...</td>\n",
       "      <td>...</td>\n",
       "      <td>...</td>\n",
       "    </tr>\n",
       "    <tr>\n",
       "      <th>100994</th>\n",
       "      <td>69846</td>\n",
       "      <td>2019-12-25</td>\n",
       "      <td>8</td>\n",
       "      <td>Short Estampa</td>\n",
       "      <td>2</td>\n",
       "      <td>96</td>\n",
       "      <td>192</td>\n",
       "      <td>Salvador Shopping</td>\n",
       "    </tr>\n",
       "    <tr>\n",
       "      <th>100995</th>\n",
       "      <td>69846</td>\n",
       "      <td>2019-12-25</td>\n",
       "      <td>8</td>\n",
       "      <td>Tênis Estampa</td>\n",
       "      <td>5</td>\n",
       "      <td>256</td>\n",
       "      <td>1280</td>\n",
       "      <td>Salvador Shopping</td>\n",
       "    </tr>\n",
       "    <tr>\n",
       "      <th>100996</th>\n",
       "      <td>69850</td>\n",
       "      <td>2019-12-25</td>\n",
       "      <td>8</td>\n",
       "      <td>Calça Estampa</td>\n",
       "      <td>4</td>\n",
       "      <td>177</td>\n",
       "      <td>708</td>\n",
       "      <td>Salvador Shopping</td>\n",
       "    </tr>\n",
       "    <tr>\n",
       "      <th>100997</th>\n",
       "      <td>69972</td>\n",
       "      <td>2019-12-26</td>\n",
       "      <td>8</td>\n",
       "      <td>Terno Liso</td>\n",
       "      <td>3</td>\n",
       "      <td>720</td>\n",
       "      <td>2160</td>\n",
       "      <td>Salvador Shopping</td>\n",
       "    </tr>\n",
       "    <tr>\n",
       "      <th>100998</th>\n",
       "      <td>69972</td>\n",
       "      <td>2019-12-26</td>\n",
       "      <td>8</td>\n",
       "      <td>Sapato Estampa</td>\n",
       "      <td>5</td>\n",
       "      <td>358</td>\n",
       "      <td>1790</td>\n",
       "      <td>Salvador Shopping</td>\n",
       "    </tr>\n",
       "  </tbody>\n",
       "</table>\n",
       "<p>100999 rows × 8 columns</p>\n",
       "</div>"
      ],
      "text/plain": [
       "        Código Venda       Data  ID Loja                 Produto  Quantidade  \\\n",
       "0                  1 2019-01-01        1          Sapato Estampa           1   \n",
       "1                  1 2019-01-01        1                Camiseta           2   \n",
       "2                  1 2019-01-01        1           Sapato Xadrez           1   \n",
       "3                 21 2019-01-02        1  Camisa Gola V Listrado           2   \n",
       "4                 34 2019-01-02        1         Sapato Listrado           1   \n",
       "...              ...        ...      ...                     ...         ...   \n",
       "100994         69846 2019-12-25        8           Short Estampa           2   \n",
       "100995         69846 2019-12-25        8           Tênis Estampa           5   \n",
       "100996         69850 2019-12-25        8           Calça Estampa           4   \n",
       "100997         69972 2019-12-26        8              Terno Liso           3   \n",
       "100998         69972 2019-12-26        8          Sapato Estampa           5   \n",
       "\n",
       "        Valor Unitário  Valor Final                Loja  \n",
       "0                  358          358  Iguatemi Esplanada  \n",
       "1                  180          360  Iguatemi Esplanada  \n",
       "2                  368          368  Iguatemi Esplanada  \n",
       "3                  116          232  Iguatemi Esplanada  \n",
       "4                  363          363  Iguatemi Esplanada  \n",
       "...                ...          ...                 ...  \n",
       "100994              96          192   Salvador Shopping  \n",
       "100995             256         1280   Salvador Shopping  \n",
       "100996             177          708   Salvador Shopping  \n",
       "100997             720         2160   Salvador Shopping  \n",
       "100998             358         1790   Salvador Shopping  \n",
       "\n",
       "[100999 rows x 8 columns]"
      ]
     },
     "metadata": {},
     "output_type": "display_data"
    }
   ],
   "source": [
    "vendas = df_vendas.merge(df_lojas, on='ID Loja')\n",
    "display(vendas)"
   ]
  },
  {
   "cell_type": "code",
   "execution_count": 5,
   "metadata": {},
   "outputs": [],
   "source": [
    "dic_lojas = {}\n",
    "for loja in df_lojas['Loja']:\n",
    "    dic_lojas[loja] = vendas.loc[vendas['Loja'] == loja, :]\n"
   ]
  },
  {
   "cell_type": "code",
   "execution_count": 6,
   "metadata": {},
   "outputs": [
    {
     "name": "stdout",
     "output_type": "stream",
     "text": [
      "2019-12-26 00:00:00\n"
     ]
    }
   ],
   "source": [
    "dia_indicador = vendas['Data'].max()\n",
    "\n",
    "print(dia_indicador)"
   ]
  },
  {
   "cell_type": "markdown",
   "metadata": {},
   "source": [
    "### Passo 3 - Salvar a planilha na pasta de backup"
   ]
  },
  {
   "cell_type": "code",
   "execution_count": 7,
   "metadata": {},
   "outputs": [],
   "source": [
    "caminho_backup = pathlib.Path(r'Backup Arquivos Lojas')\n",
    "\n",
    "arquivos_backup = caminho_backup.iterdir()\n",
    "\n",
    "#Usamos a lista para verificar se o arquivo da loja existe dentro da lista\n",
    "lista_backup = [arquivo.name for arquivo in arquivos_backup]\n",
    "\n",
    "for loja in dic_lojas:\n",
    "    if loja not in lista_backup:\n",
    "        nova_pasta = caminho_backup / loja\n",
    "        nova_pasta.mkdir()\n",
    "    nome_arquivo = '{}-{}_{}.xlsx'.format(dia_indicador.month, dia_indicador.year, loja)\n",
    "    local_arquivo = caminho_backup / loja / nome_arquivo\n",
    "    \n",
    "    dic_lojas[loja].to_excel(local_arquivo)"
   ]
  },
  {
   "cell_type": "markdown",
   "metadata": {},
   "source": [
    "### Passo 4 - Calcular o indicador para 1 loja"
   ]
  },
  {
   "cell_type": "code",
   "execution_count": 11,
   "metadata": {
    "scrolled": true
   },
   "outputs": [
    {
     "name": "stdout",
     "output_type": "stream",
     "text": [
      "O faturamento do ano foi de R$ 1711968.00\n",
      "O faturamento do dia foi de R$ 1259.00\n",
      "120 produtos direntes vendidos no ano\n",
      "2 produtos diferentes vendidos no dia\n",
      "A média de vendas anual da loja Norte Shopping foi de R$784.59\n",
      "A média de vendas da loja Norte Shopping no dia foi de R$1259.00\n"
     ]
    },
    {
     "name": "stderr",
     "output_type": "stream",
     "text": [
      "C:\\Users\\lucas.lopes\\AppData\\Local\\Temp\\ipykernel_3356\\72049636.py:19: FutureWarning: The default value of numeric_only in DataFrameGroupBy.sum is deprecated. In a future version, numeric_only will default to False. Either specify numeric_only or select only columns which should be valid for the function.\n",
      "  valor_venda = loja_vendas.groupby('Código Venda').sum()\n",
      "C:\\Users\\lucas.lopes\\AppData\\Local\\Temp\\ipykernel_3356\\72049636.py:24: FutureWarning: The default value of numeric_only in DataFrameGroupBy.sum is deprecated. In a future version, numeric_only will default to False. Either specify numeric_only or select only columns which should be valid for the function.\n",
      "  valor_venda_dia = vendas_loja_dia.groupby('Código Venda').sum()\n"
     ]
    }
   ],
   "source": [
    "loja = 'Norte Shopping'\n",
    "loja_vendas = dic_lojas[loja]\n",
    "vendas_loja_dia = loja_vendas.loc[loja_vendas['Data'] == dia_indicador, :]\n",
    "\n",
    "#Faturamento\n",
    "faturamento_ano = loja_vendas['Valor Final'].sum()\n",
    "faturamento_dia = vendas_loja_dia['Valor Final'].sum()\n",
    "print(f'O faturamento do ano foi de R$ {faturamento_ano :.2f}')\n",
    "print(f'O faturamento do dia foi de R$ {faturamento_dia :.2f}')\n",
    "\n",
    "#Diversidade de produtos\n",
    "qtd_produtos_ano = len(loja_vendas['Produto'].unique())\n",
    "print(f'{qtd_produtos_ano} produtos direntes vendidos no ano')\n",
    "\n",
    "qtd_produtos_dia = len(vendas_loja_dia['Produto'].unique())\n",
    "print(f'{qtd_produtos_dia} produtos diferentes vendidos no dia')\n",
    "\n",
    "#ticket medio ano\n",
    "valor_venda = loja_vendas.groupby('Código Venda').sum()\n",
    "ticket_medio_ano = valor_venda['Valor Final'].mean()\n",
    "print(f'A média de vendas anual da loja {loja} foi de R${ticket_medio_ano:.2f}')\n",
    "\n",
    "#ticket medio Dia\n",
    "valor_venda_dia = vendas_loja_dia.groupby('Código Venda').sum()\n",
    "ticket_media_dia = valor_venda_dia['Valor Final'].mean()\n",
    "print(f'A média de vendas da loja {loja} no dia foi de R${ticket_media_dia:.2f}')"
   ]
  },
  {
   "cell_type": "code",
   "execution_count": 12,
   "metadata": {},
   "outputs": [],
   "source": [
    "#Definir as metas\n",
    "\n",
    "meta_faturamento_dia = 1000\n",
    "meta_faturamento_ano = 1650000\n",
    "meta_qtdprodutos_dia = 4\n",
    "meta_qtdprodutos_ano = 120\n",
    "meta_ticketmedio_dia = 500\n",
    "meta_ticketmedio_ano = 500\n"
   ]
  },
  {
   "cell_type": "markdown",
   "metadata": {},
   "source": [
    "### Passo 5 - Enviar por e-mail para o gerente"
   ]
  },
  {
   "cell_type": "code",
   "execution_count": 24,
   "metadata": {},
   "outputs": [
    {
     "ename": "TypeError",
     "evalue": "must be real number, not WindowsPath",
     "output_type": "error",
     "traceback": [
      "\u001b[1;31m---------------------------------------------------------------------------\u001b[0m",
      "\u001b[1;31mTypeError\u001b[0m                                 Traceback (most recent call last)",
      "Cell \u001b[1;32mIn[24], line 14\u001b[0m\n\u001b[0;32m     10\u001b[0m \u001b[38;5;66;03m#ou mail.HTMLBody = '<p>Corpo do Email em HTML</p>' \u001b[39;00m\n\u001b[0;32m     11\u001b[0m \n\u001b[0;32m     12\u001b[0m \u001b[38;5;66;03m# Anexos \u001b[39;00m\n\u001b[0;32m     13\u001b[0m attachment  \u001b[38;5;241m=\u001b[39m pathlib\u001b[38;5;241m.\u001b[39mPath\u001b[38;5;241m.\u001b[39mcwd() \u001b[38;5;241m/\u001b[39m caminho_backup \u001b[38;5;241m/\u001b[39m loja \u001b[38;5;241m/\u001b[39m \u001b[38;5;124mf\u001b[39m\u001b[38;5;124m'\u001b[39m\u001b[38;5;132;01m{\u001b[39;00mdia_indicador\u001b[38;5;241m.\u001b[39mmonth\u001b[38;5;132;01m}\u001b[39;00m\u001b[38;5;124m_\u001b[39m\u001b[38;5;132;01m{\u001b[39;00mdia_indicador\u001b[38;5;241m.\u001b[39myear\u001b[38;5;132;01m}\u001b[39;00m\u001b[38;5;124m_\u001b[39m\u001b[38;5;132;01m{\u001b[39;00mloja\u001b[38;5;132;01m}\u001b[39;00m\u001b[38;5;124m.xlsx\u001b[39m\u001b[38;5;124m'\u001b[39m \n\u001b[1;32m---> 14\u001b[0m \u001b[43mmail\u001b[49m\u001b[38;5;241;43m.\u001b[39;49m\u001b[43mAttachments\u001b[49m\u001b[38;5;241;43m.\u001b[39;49m\u001b[43mAdd\u001b[49m\u001b[43m(\u001b[49m\u001b[43mattachment\u001b[49m\u001b[43m)\u001b[49m \n\u001b[0;32m     17\u001b[0m mail\u001b[38;5;241m.\u001b[39mSend()\n",
      "File \u001b[1;32m<COMObject <unknown>>:2\u001b[0m, in \u001b[0;36mAdd\u001b[1;34m(self, Source, Type, Position, DisplayName)\u001b[0m\n",
      "\u001b[1;31mTypeError\u001b[0m: must be real number, not WindowsPath"
     ]
    }
   ],
   "source": [
    "outlook = win32.Dispatch('outlook.application')\n",
    "\n",
    "gerente = df_email.loc[df_email['Loja'] == loja , 'Gerente'].values[0]\n",
    "mail = outlook.CreateItem(0) \n",
    "mail.To = df_email.loc[df_email['Loja'] == loja , 'E-mail'].values[0]\n",
    "# mail.CC = 'email@gmail.com' \n",
    "# mail.BCC = 'email@gmail.com' \n",
    "mail.Subject = f'OnePage {dia_indicador.day}/{dia_indicador.month} - {loja}' \n",
    "mail.Body = 'Teste de automação de email' \n",
    "#ou mail.HTMLBody = '<p>Corpo do Email em HTML</p>' \n",
    "\n",
    "# Anexos \n",
    "attachment  = pathlib.Path.cwd() / caminho_backup / loja / f'{dia_indicador.month}_{dia_indicador.year}_{loja}.xlsx' \n",
    "mail.Attachments.Add(attachment) \n",
    "\n",
    "\n",
    "mail.Send()"
   ]
  },
  {
   "cell_type": "markdown",
   "metadata": {},
   "source": [
    "### Passo 6 - Automatizar todas as lojas"
   ]
  },
  {
   "cell_type": "markdown",
   "metadata": {},
   "source": [
    "### Passo 7 - Criar ranking para diretoria"
   ]
  },
  {
   "cell_type": "code",
   "execution_count": null,
   "metadata": {},
   "outputs": [],
   "source": []
  },
  {
   "cell_type": "markdown",
   "metadata": {},
   "source": [
    "### Passo 8 - Enviar e-mail para diretoria"
   ]
  },
  {
   "cell_type": "code",
   "execution_count": null,
   "metadata": {},
   "outputs": [],
   "source": []
  }
 ],
 "metadata": {
  "kernelspec": {
   "display_name": "Python 3 (ipykernel)",
   "language": "python",
   "name": "python3"
  },
  "language_info": {
   "codemirror_mode": {
    "name": "ipython",
    "version": 3
   },
   "file_extension": ".py",
   "mimetype": "text/x-python",
   "name": "python",
   "nbconvert_exporter": "python",
   "pygments_lexer": "ipython3",
   "version": "3.10.9"
  }
 },
 "nbformat": 4,
 "nbformat_minor": 4
}
